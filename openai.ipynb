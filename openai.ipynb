{
 "cells": [
  {
   "cell_type": "code",
   "execution_count": 26,
   "id": "5f98acb9",
   "metadata": {},
   "outputs": [
    {
     "name": "stdout",
     "output_type": "stream",
     "text": [
      "Collecting Owlready2\n",
      "  Downloading Owlready2-0.40.tar.gz (27.3 MB)\n",
      "\u001b[2K     \u001b[90m━━━━━━━━━━━━━━━━━━━━━━━━━━━━━━━━━━━━━━━━\u001b[0m \u001b[32m27.3/27.3 MB\u001b[0m \u001b[31m27.9 MB/s\u001b[0m eta \u001b[36m0:00:00\u001b[0m00:01\u001b[0m00:01\u001b[0m\n",
      "\u001b[?25h  Preparing metadata (setup.py) ... \u001b[?25ldone\n",
      "\u001b[?25hBuilding wheels for collected packages: Owlready2\n",
      "  Building wheel for Owlready2 (setup.py) ... \u001b[?25ldone\n",
      "\u001b[?25h  Created wheel for Owlready2: filename=Owlready2-0.40-cp39-cp39-macosx_10_9_x86_64.whl size=23473484 sha256=0e1370bd648f11834434bbe8c6a2e649a7f3d1a47228ecec5f5c2b23b7d1c252\n",
      "  Stored in directory: /Users/paulbruffett/Library/Caches/pip/wheels/d7/57/3d/e5c8b9956e87df35a535741844755214b6c6844d6a8a50dc76\n",
      "Successfully built Owlready2\n",
      "Installing collected packages: Owlready2\n",
      "Successfully installed Owlready2-0.40\n"
     ]
    }
   ],
   "source": [
    "!pip3 install -q openai\n",
    "!pip3 install -q Owlready2"
   ]
  },
  {
   "cell_type": "code",
   "execution_count": 2,
   "id": "fb50213c",
   "metadata": {},
   "outputs": [],
   "source": [
    "# Note: you need to be using OpenAI Python v0.27.0 for the code below to work\n",
    "import openai\n",
    "from owlready2 import *\n",
    "\n",
    "onto = get_ontology(\"http://test.org/onto.owl\")\n",
    "\n",
    "#add your API key or set it as an environment variable\n",
    "openai.api_key = apikey"
   ]
  },
  {
   "cell_type": "code",
   "execution_count": 4,
   "id": "e2c3aded",
   "metadata": {},
   "outputs": [],
   "source": [
    "with onto:\n",
    "    class Coffee(Thing): pass\n",
    "            \n",
    "    class Roast(Thing): pass\n",
    "    \n",
    "    class Dark_Roast(Roast): pass\n",
    "    class Blonde_Roast(Roast): pass\n",
    "    class Medium_Roast(Roast): pass\n",
    "    \n",
    "    class Region(Thing): pass\n",
    "    \n",
    "    class Latin_America(Region): pass\n",
    "    class Asia_Pacific(Region): pass\n",
    "    class Multi(Region): pass\n",
    "    \n",
    "    class Processing(Thing): pass\n",
    "    \n",
    "    class Washed(Processing): pass\n",
    "    class Semi_Washed(Processing): pass\n",
    "    \n",
    "\n",
    "    class has_roast(Coffee >> Roast, FunctionalProperty):\n",
    "        pass\n",
    "    \n",
    "    \n",
    "    class from_region(Coffee >> Region, FunctionalProperty):\n",
    "        pass\n",
    "    \n",
    "    #inverse relationships indicate the relationship is bi-directional\n",
    "    class grown_in(Region >> Coffee):\n",
    "        inverse = from_region\n",
    "        \n",
    "    class has_body(Coffee >> str, FunctionalProperty):\n",
    "        pass\n",
    "    \n",
    "    class has_processing(Coffee >> Processing, ObjectProperty):\n",
    "        pass\n",
    "    \n",
    "            \n",
    "    class Western_Blend (Coffee):\n",
    "        equivalent_to = [Coffee & has_roast.some(Roast) & has_roast.only(Blonde_Roast) &\n",
    "                         from_region.some(Region) & \n",
    "                        from_region.only(Latin_America) & has_body.value(\"Light\") \n",
    "                         & has_processing.some(Processing) & has_processing.only(Washed)]\n",
    "\n",
    "    class Eastern_Blend(Coffee):\n",
    "        equivalent_to = [Coffee & has_roast.some(Roast) & has_roast.only(Medium_Roast) &\n",
    "                         from_region.some(Region) &\n",
    "                        from_region.only(Latin_America) & has_body.value(\"Medium\") &\n",
    "                         has_processing.some(Processing) & has_processing.only(Washed)]\n",
    "\n",
    "    class Southern_Blend(Coffee):\n",
    "        equivalent_to = [Coffee & has_roast.some(Roast) & has_roast.only(Dark_Roast) &\n",
    "                         from_region.some(Region) &\n",
    "                        from_region.only(Asia_Pacific) & has_body.value(\"Full\") &\n",
    "                        has_processing.some(Processing) & has_processing.only(Washed)]\n",
    "        \n",
    "    #we can have two washes for this coffee, washed or semi-washed\n",
    "    class Northern_Blend(Coffee):\n",
    "        equivalent_to = [Coffee & has_roast.some(Roast) & has_roast.only(Medium_Roast) &\n",
    "                        from_region.some(Region) & from_region.only(Multi) &\n",
    "                        has_body.value(\"Full\") & has_processing.some(Processing) &\n",
    "                        has_processing.only(Washed | Semi_Washed)]\n",
    "\n",
    "\n",
    "AllDisjoint([Dark_Roast, Blonde_Roast, Medium_Roast])\n",
    "AllDifferent([Latin_America, Asia_Pacific, Multi])\n",
    "\n",
    "#previously we related the unknown coffee to classes, now we're instantiating objects to relate to\n",
    "latam = Latin_America(\"Latin America\")\n",
    "apac = Asia_Pacific(\"Asia Pacific\")\n",
    "multi = Multi(\"Multiple Regions\")\n",
    "blonde = Blonde_Roast(\"Blonde\")\n",
    "dark = Dark_Roast(\"Dark\")\n",
    "medium = Medium_Roast(\"Medium\")\n",
    "\n",
    "coffee1 = Coffee(name=\"Nomad\", has_roast = blonde, from_region=latam, has_body = \"Light\",has_processing=[Washed()])\n",
    "coffee2 = Coffee(name=\"Lucy\", has_roast = dark, from_region=apac, has_body = \"Full\", has_processing=[Washed()])\n",
    "coffee3 = Coffee(name=\"Monarch\", has_roast = medium, from_region=multi, has_body = \"Full\", has_processing=[Washed(),\n",
    "                                                                                                  Semi_Washed()])\n",
    "\n",
    "\n",
    "close_world(Coffee)"
   ]
  },
  {
   "cell_type": "code",
   "execution_count": 5,
   "id": "2b0197ea",
   "metadata": {},
   "outputs": [
    {
     "name": "stderr",
     "output_type": "stream",
     "text": [
      "* Owlready2 * Running HermiT...\n",
      "    java -Xmx2000M -cp /Users/paulbruffett/opt/anaconda3/lib/python3.9/site-packages/owlready2/hermit:/Users/paulbruffett/opt/anaconda3/lib/python3.9/site-packages/owlready2/hermit/HermiT.jar org.semanticweb.HermiT.cli.CommandLine -c -O -D -I file:////var/folders/4q/0r95mcrx4n5_z5935v7q04_c0000gn/T/tmpxzzku180\n",
      "* Owlready2 * HermiT took 0.42424893379211426 seconds\n",
      "* Owlready * (NB: only changes on entities loaded in Python are shown, other changes are done but not listed)\n"
     ]
    }
   ],
   "source": [
    "sync_reasoner()"
   ]
  },
  {
   "cell_type": "code",
   "execution_count": 6,
   "id": "9c743368",
   "metadata": {},
   "outputs": [
    {
     "data": {
      "text/plain": [
       "'Monarch'"
      ]
     },
     "execution_count": 6,
     "metadata": {},
     "output_type": "execute_result"
    }
   ],
   "source": [
    "coffee3.name"
   ]
  },
  {
   "cell_type": "code",
   "execution_count": 31,
   "id": "3588951e",
   "metadata": {},
   "outputs": [
    {
     "data": {
      "text/plain": [
       "<OpenAIObject chat.completion id=chatcmpl-6tmjrQQ492DuoIu9XrF5SRbfjUSS2 at 0x7f9558157270> JSON: {\n",
       "  \"choices\": [\n",
       "    {\n",
       "      \"finish_reason\": \"stop\",\n",
       "      \"index\": 0,\n",
       "      \"message\": {\n",
       "        \"content\": \"\\n\\nAs an AI language model, I don't have personal preferences, but as per the coffee norms, A light-bodied washed coffee is a coffee that is processed by removing the fruit from the coffee cherry before drying. Once the fruit is removed, the beans are left to soak and ferment, which removes the sticky, sugary residue from the beans. This process results in a coffee that is often described as having a light or delicate body with bright, acidic, and citrusy notes. Examples of light-bodied washed coffees include Ethiopian Yirgacheffe and Kenyan AA.\",\n",
       "        \"role\": \"assistant\"\n",
       "      }\n",
       "    }\n",
       "  ],\n",
       "  \"created\": 1678753411,\n",
       "  \"id\": \"chatcmpl-6tmjrQQ492DuoIu9XrF5SRbfjUSS2\",\n",
       "  \"model\": \"gpt-3.5-turbo-0301\",\n",
       "  \"object\": \"chat.completion\",\n",
       "  \"usage\": {\n",
       "    \"completion_tokens\": 117,\n",
       "    \"prompt_tokens\": 16,\n",
       "    \"total_tokens\": 133\n",
       "  }\n",
       "}"
      ]
     },
     "execution_count": 31,
     "metadata": {},
     "output_type": "execute_result"
    }
   ],
   "source": [
    "openai.ChatCompletion.create(\n",
    "  model=\"gpt-3.5-turbo\",\n",
    "  messages=[\n",
    "        {\"role\": \"user\", \"content\": \"What's a light bodied washed coffee.\"}\n",
    "    ]\n",
    ")"
   ]
  },
  {
   "cell_type": "code",
   "execution_count": 33,
   "id": "b4b4a706",
   "metadata": {},
   "outputs": [],
   "source": [
    "#{\"prompt\":\"Item is a handbag. Colour is army green. Price is midrange. Size is small.->\", \"completion\":\" \n",
    "# This stylish small green handbag will add a unique touch to your look, without costing you a fortune.\"}"
   ]
  },
  {
   "cell_type": "code",
   "execution_count": 77,
   "id": "bb45bf18",
   "metadata": {},
   "outputs": [],
   "source": [
    "prompts = []\n",
    "for i in [coffee1,coffee2,coffee3]:\n",
    "    prompt_text=\"%s is the name of a coffee.  Body is %s.  From Region %s.  Roast is %s. ->\" % (i.name, i.has_body, i.from_region.name,i.has_roast.name)\n",
    "    completion_text=\"%s is a %s bodied coffee that is from %s that has been prepared with a %s roast. END\" % (i.name, i.has_body, i.from_region.name,i.has_roast.name)\n",
    "    prompts.append({\"prompt\":prompt_text, \"completion\":completion_text})\n",
    "    prompt_text=\"What is the name of a good coffee with %s body? ->\" % (i.has_body)\n",
    "    completion_text=\"%s is a coffee with %s body. END\" % (i.name, i.has_body)\n",
    "    prompts.append({\"prompt\":prompt_text, \"completion\":completion_text})\n",
    "    prompt_text=\"What is the name of a coffee from %s? ->\" % (i.from_region.name)\n",
    "    completion_text=\"%s is a coffee from %s. END\" % (i.name, i.from_region.name)\n",
    "    prompts.append({\"prompt\":prompt_text, \"completion\":completion_text})"
   ]
  },
  {
   "cell_type": "code",
   "execution_count": 78,
   "id": "21feb61e",
   "metadata": {},
   "outputs": [
    {
     "data": {
      "text/plain": [
       "[{'prompt': 'Nomad is the name of a coffee.  Body is Light.  From Region Latin America.  Roast is Blonde Roast. ->',\n",
       "  'completion': 'Nomad is a Light bodied coffee that is from Latin America that has been prepared with a Blonde Roast roast. END'},\n",
       " {'prompt': 'What is the name of a good coffee with Light body? ->',\n",
       "  'completion': 'Nomad is a coffee with Light body. END'},\n",
       " {'prompt': 'What is the name of a coffee from Latin America? ->',\n",
       "  'completion': 'Nomad is a coffee from Latin America. END'},\n",
       " {'prompt': 'Lucy is the name of a coffee.  Body is Full.  From Region Asia Pacific.  Roast is Dark Roast. ->',\n",
       "  'completion': 'Lucy is a Full bodied coffee that is from Asia Pacific that has been prepared with a Dark Roast roast. END'},\n",
       " {'prompt': 'What is the name of a good coffee with Full body? ->',\n",
       "  'completion': 'Lucy is a coffee with Full body. END'},\n",
       " {'prompt': 'What is the name of a coffee from Asia Pacific? ->',\n",
       "  'completion': 'Lucy is a coffee from Asia Pacific. END'},\n",
       " {'prompt': 'Monarch is the name of a coffee.  Body is Full.  From Region Multiple Regions.  Roast is Medium Roast. ->',\n",
       "  'completion': 'Monarch is a Full bodied coffee that is from Multiple Regions that has been prepared with a Medium Roast roast. END'},\n",
       " {'prompt': 'What is the name of a good coffee with Full body? ->',\n",
       "  'completion': 'Monarch is a coffee with Full body. END'},\n",
       " {'prompt': 'What is the name of a coffee from Multiple Regions? ->',\n",
       "  'completion': 'Monarch is a coffee from Multiple Regions. END'}]"
      ]
     },
     "execution_count": 78,
     "metadata": {},
     "output_type": "execute_result"
    }
   ],
   "source": [
    "prompts"
   ]
  },
  {
   "cell_type": "code",
   "execution_count": 79,
   "id": "fae1ed93",
   "metadata": {},
   "outputs": [],
   "source": [
    "import json\n",
    "with open(\"prompts.json\", 'w') as f:\n",
    "    json.dump(prompts, f)"
   ]
  },
  {
   "cell_type": "code",
   "execution_count": 60,
   "id": "1602c93b",
   "metadata": {},
   "outputs": [],
   "source": [
    "#openai tools fine_tunes.prepare_data -f prompts.json\n",
    "#openai api fine_tunes.create -t prompts_prepared.jsonl -m curie\n",
    "#https://platform.openai.com/playground"
   ]
  },
  {
   "cell_type": "code",
   "execution_count": null,
   "id": "a0f92dab",
   "metadata": {},
   "outputs": [],
   "source": []
  },
  {
   "cell_type": "code",
   "execution_count": 42,
   "id": "3e82f61b",
   "metadata": {},
   "outputs": [
    {
     "data": {
      "text/plain": [
       "<OpenAIObject text_completion id=cmpl-6u13yvqRwHyusHBbun9Ee8XQAhUpU at 0x7fd208065590> JSON: {\n",
       "  \"choices\": [\n",
       "    {\n",
       "      \"finish_reason\": \"length\",\n",
       "      \"index\": 0,\n",
       "      \"logprobs\": null,\n",
       "      \"text\": \"\\n\\nI have recently been experimenting with various bodied brews from various lat\"\n",
       "    }\n",
       "  ],\n",
       "  \"created\": 1678808474,\n",
       "  \"id\": \"cmpl-6u13yvqRwHyusHBbun9Ee8XQAhUpU\",\n",
       "  \"model\": \"ada:ft-personal-2023-03-14-01-44-19\",\n",
       "  \"object\": \"text_completion\",\n",
       "  \"usage\": {\n",
       "    \"completion_tokens\": 16,\n",
       "    \"prompt_tokens\": 14,\n",
       "    \"total_tokens\": 30\n",
       "  }\n",
       "}"
      ]
     },
     "execution_count": 42,
     "metadata": {},
     "output_type": "execute_result"
    }
   ],
   "source": [
    "openai.Completion.create(\n",
    "    model=\"ada:ft-personal-2023-03-14-01-44-19\",\n",
    "    prompt=\"What's a good light bodied coffee from latin america?\")"
   ]
  },
  {
   "cell_type": "code",
   "execution_count": null,
   "id": "31491057",
   "metadata": {},
   "outputs": [],
   "source": [
    "openai.Completion.create(\n",
    "  model=\"gpt-3.5-turbo\",\n",
    "  messages=[\n",
    "        {\"role\": \"user\", \"content\": \"What's a light bodied washed coffee.\"}\n",
    "    ]\n",
    ")"
   ]
  }
 ],
 "metadata": {
  "kernelspec": {
   "display_name": "Python 3 (ipykernel)",
   "language": "python",
   "name": "python3"
  },
  "language_info": {
   "codemirror_mode": {
    "name": "ipython",
    "version": 3
   },
   "file_extension": ".py",
   "mimetype": "text/x-python",
   "name": "python",
   "nbconvert_exporter": "python",
   "pygments_lexer": "ipython3",
   "version": "3.9.13"
  }
 },
 "nbformat": 4,
 "nbformat_minor": 5
}
